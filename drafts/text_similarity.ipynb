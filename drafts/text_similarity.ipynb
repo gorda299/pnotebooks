{
 "cells": [
  {
   "cell_type": "markdown",
   "metadata": {},
   "source": [
    "Каждая строка в файле соответствует одному предложению. Считайте их, приведите каждую к нижнему регистру с помощью строковой функции lower()."
   ]
  },
  {
   "cell_type": "code",
   "execution_count": 152,
   "metadata": {
    "collapsed": false
   },
   "outputs": [],
   "source": [
    "file = open('sentences.txt')\n",
    "linelist = []\n",
    "for line in file:\n",
    "    linelist.append(line)\n",
    "type(file)\n",
    "file.close()"
   ]
  },
  {
   "cell_type": "code",
   "execution_count": 153,
   "metadata": {
    "collapsed": false
   },
   "outputs": [],
   "source": [
    "i=0\n",
    "for line in linelist:\n",
    "    linelist[i]= line.lower()\n",
    "    i=i+1\n",
    "    #linelist.replace(line, line.lower())\n",
    "    "
   ]
  },
  {
   "cell_type": "markdown",
   "metadata": {},
   "source": [
    "Произведите токенизацию, то есть разбиение текстов на слова. Для этого можно воспользоваться регулярным выражением, которое считает разделителем любой символ, не являющийся буквой: re.split('[^a-z]', t). Не забудьте удалить пустые слова после разделения."
   ]
  },
  {
   "cell_type": "code",
   "execution_count": 154,
   "metadata": {
    "collapsed": false
   },
   "outputs": [],
   "source": [
    "import re;\n",
    "i=0\n",
    "for line in linelist:\n",
    "    linelist[i] = re.split('[^a-z]', line)\n",
    "    i=i+1"
   ]
  },
  {
   "cell_type": "code",
   "execution_count": 155,
   "metadata": {
    "collapsed": false
   },
   "outputs": [],
   "source": [
    "i=0\n",
    "for line in linelist[:]:\n",
    "    line[:] = (word for word in line if word != '')\n",
    "    linelist[i] = line\n",
    "    i=i+1"
   ]
  },
  {
   "cell_type": "markdown",
   "metadata": {},
   "source": [
    "Составьте список всех слов, встречающихся в предложениях. Сопоставьте каждому слову индекс от нуля до (d - 1), где d — число различных слов в предложениях. Для этого удобно воспользоваться структурой dict."
   ]
  },
  {
   "cell_type": "code",
   "execution_count": 156,
   "metadata": {
    "collapsed": true
   },
   "outputs": [],
   "source": [
    "dictionary = {}\n",
    "for line in linelist:\n",
    "    for word in line:\n",
    "        if word in dictionary:\n",
    "            dictionary[word] += 1\n",
    "        else:\n",
    "            dictionary[word] = 1"
   ]
  },
  {
   "cell_type": "markdown",
   "metadata": {},
   "source": [
    "Создайте матрицу размера n \\* d, где n — число предложений. Заполните ее: элемент с индексом (i, j) в этой матрице должен быть равен количеству вхождений j-го слова в i-е предложение. У вас должна получиться матрица размера 22 \\* 254."
   ]
  },
  {
   "cell_type": "code",
   "execution_count": 157,
   "metadata": {
    "collapsed": false
   },
   "outputs": [],
   "source": [
    "dtm =[[0] * len(dictionary) for i in range(len(linelist))]\n",
    "sorted_dict = sorted(dictionary.keys())\n",
    "i=0\n",
    "for line in linelist:\n",
    "    for word in line:\n",
    "        dtm[i][sorted_dict.index(word)]+=1\n",
    "    i+=1"
   ]
  },
  {
   "cell_type": "markdown",
   "metadata": {},
   "source": [
    "Найдите косинусное расстояние от предложения в самой первой строке (In comparison to dogs, cats have not undergone...) до всех остальных с помощью функции scipy.spatial.distance.cosine. Какие номера у двух предложений, ближайших к нему по этому расстоянию (строки нумеруются с нуля)? Эти два числа и будут ответами на задание. Само предложение (In comparison to dogs, cats have not undergone... ) имеет индекс 0."
   ]
  },
  {
   "cell_type": "code",
   "execution_count": 179,
   "metadata": {
    "collapsed": false
   },
   "outputs": [
    {
     "name": "stdout",
     "output_type": "stream",
     "text": [
      "[(7, 0.7327387580875756), (5, 0.77708871496985887), (22, 0.82503644694405864), (11, 0.83281653622739416), (13, 0.83964325485254543), (17, 0.84063618542208085), (21, 0.84275727449171223), (3, 0.86447381456421235), (14, 0.87035925528956715), (15, 0.87401184233025764), (12, 0.88047713906656067), (9, 0.88427248752843102), (20, 0.88854435748492944), (4, 0.89517151632780823), (10, 0.90550888174769317), (8, 0.92587506833388988), (6, 0.94023856953328033), (16, 0.94427217874246472), (19, 0.94427217874246472), (2, 0.95275444087384664), (18, 0.95664450152379399)]\n"
     ]
    }
   ],
   "source": [
    "from scipy import spatial\n",
    "distances={}\n",
    "i=1\n",
    "while i<len(dtm):\n",
    "    distances[i+1] = scipy.spatial.distance.cosine(dtm[0],dtm[i])\n",
    "    i+=1\n",
    "ld = sorted(distances.items(), key=lambda (k, v): v)\n",
    "print ld"
   ]
  },
  {
   "cell_type": "markdown",
   "metadata": {},
   "source": [
    "Вывод строк по степени схожести с первой"
   ]
  },
  {
   "cell_type": "code",
   "execution_count": 180,
   "metadata": {
    "collapsed": false
   },
   "outputs": [
    {
     "name": "stdout",
     "output_type": "stream",
     "text": [
      "Строка, относительно которой выполняется поиск схожих предложений: \n",
      "in comparison to dogs cats have not undergone major changes during the domestication process\n",
      "\n",
      "Строка  7  Степень схожести  0.732738758088 \n",
      "  domestic cats are similar in size to the other members of the genus felis typically weighing between and kg and lb\n",
      "\n",
      "Строка  5  Степень схожести  0.77708871497 \n",
      "  in one people deliberately tamed cats in a process of artificial selection as they were useful predators of vermin\n",
      "\n",
      "Строка  22  Степень схожести  0.825036446944 \n",
      "  the fifth major update to mac os x leopard contains such a mountain of features more than by apple s count\n",
      "\n",
      "Строка  11  Степень схожести  0.832816536227 \n",
      "  cat command is one of the basic commands that you learned when you started in the unix linux world\n",
      "\n",
      "Строка  13  Степень схожести  0.839643254853 \n",
      "  when you type simply cat command without any arguments it just receives the stdin content and displays it in the stdout\n",
      "\n",
      "Строка  17  Степень схожести  0.840636185422 \n",
      "  since apple moved to using intel processors in their computers the osx community has developed and now also allows mac os x tiger and later releases to be installed on non apple x based computers\n",
      "\n",
      "Строка  21  Степень схожести  0.842757274492 \n",
      "  mac os x mountain lion installs in place so you won t need to create a separate disk or run the installation off an external drive\n",
      "\n",
      "Строка  3  Степень схожести  0.864473814564 \n",
      "  a common interactive use of cat for a single file is to output the content of a file to standard output\n",
      "\n",
      "Строка  14  Степень схожести  0.87035925529 \n",
      "  leopard was released on october as the successor of tiger version and is available in two editions\n",
      "\n",
      "Строка  15  Степень схожести  0.87401184233 \n",
      "  according to apple leopard contains over changes and enhancements over its predecessor mac os x tiger\n",
      "\n",
      "Строка  12  Степень схожести  0.880477139067 \n",
      "  using cat command the lines received from stdin can be redirected to a new file using redirection symbols\n",
      "\n",
      "Строка  9  Степень схожести  0.884272487528 \n",
      "  cat with one named file is safer where human error is a concern one wrong use of the default redirection symbol instead of often adjacent on keyboards may permanently delete the file you were just needing to read\n",
      "\n",
      "Строка  20  Степень схожести  0.888544357485 \n",
      "  the mountain lion release marks the second time apple has offered an incremental upgrade rather than releasing a new cat entirely\n",
      "\n",
      "Строка  4  Степень схожести  0.895171516328 \n",
      "  cats can hear sounds too faint or too high in frequency for human ears such as those made by mice and other small animals\n",
      "\n",
      "Строка  10  Степень схожести  0.905508881748 \n",
      "  in terms of legibility a sequence of commands starting with cat and connected by pipes has a clear left to right flow of information\n",
      "\n",
      "Строка  8  Степень схожести  0.925875068334 \n",
      "  however if the output is piped or redirected cat is unnecessary\n",
      "\n",
      "Строка  6  Степень схожести  0.940238569533 \n",
      "  the domesticated cat and its closest wild ancestor are both diploid organisms that possess chromosomes and roughly genes\n",
      "\n",
      "Строка  16  Степень схожести  0.944272178742 \n",
      "  as of mid some apple computers have firmware factory installed which will no longer allow installation of mac os x leopard\n",
      "\n",
      "Строка  19  Степень схожести  0.944272178742 \n",
      "  apple has released a small patch for the three most recent versions of safari running on os x yosemite mavericks and mountain lion\n",
      "\n",
      "Строка  2  Степень схожести  0.952754440874 \n",
      "  as cat simply catenates streams of bytes it can be also used to concatenate binary files where it will just concatenate sequence of bytes\n",
      "\n",
      "Строка  18  Степень схожести  0.956644501524 \n",
      "  os x mountain lion was released on july for purchase and download through apple s mac app store as part of a switch to releasing os x versions online and every year\n"
     ]
    }
   ],
   "source": [
    "print 'Строка, относительно которой выполняется поиск схожих предложений: \\n', \" \".join(linelist[0][:])\n",
    "for num in ld:\n",
    "    print '\\nСтрока ', num[0], ' Степень схожести ', num[1], '\\n ', \" \".join(linelist[num[0]-1][:])\n",
    "    "
   ]
  }
 ],
 "metadata": {
  "kernelspec": {
   "display_name": "Python 2",
   "language": "python",
   "name": "python2"
  },
  "language_info": {
   "codemirror_mode": {
    "name": "ipython",
    "version": 2
   },
   "file_extension": ".py",
   "mimetype": "text/x-python",
   "name": "python",
   "nbconvert_exporter": "python",
   "pygments_lexer": "ipython2",
   "version": "2.7.13"
  }
 },
 "nbformat": 4,
 "nbformat_minor": 2
}
