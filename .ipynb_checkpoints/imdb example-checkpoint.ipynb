{
 "cells": [
  {
   "cell_type": "code",
   "execution_count": 1,
   "metadata": {},
   "outputs": [
    {
     "name": "stderr",
     "output_type": "stream",
     "text": [
      "Using TensorFlow backend.\n"
     ]
    }
   ],
   "source": [
    "'''Trains a LSTM on the IMDB sentiment classification task.\n",
    "The dataset is actually too small for LSTM to be of any advantage\n",
    "compared to simpler, much faster methods such as TF-IDF + LogReg.\n",
    "Notes:\n",
    "- RNNs are tricky. Choice of batch size is important,\n",
    "choice of loss and optimizer is critical, etc.\n",
    "Some configurations won't converge.\n",
    "- LSTM loss decrease patterns during training can be quite different\n",
    "from what you see with CNNs/MLPs/etc.\n",
    "'''\n",
    "from __future__ import print_function\n",
    "\n",
    "from keras.preprocessing import sequence\n",
    "from keras.models import Sequential\n",
    "from keras.layers import Dense, Embedding\n",
    "from keras.layers import LSTM\n",
    "from keras.datasets import imdb"
   ]
  },
  {
   "cell_type": "code",
   "execution_count": 2,
   "metadata": {},
   "outputs": [
    {
     "name": "stdout",
     "output_type": "stream",
     "text": [
      "Loading data...\n",
      "25000 train sequences\n",
      "25000 test sequences\n",
      "Pad sequences (samples x time)\n",
      "x_train shape: (25000, 80)\n",
      "x_test shape: (25000, 80)\n"
     ]
    }
   ],
   "source": [
    "max_features = 20000\n",
    "maxlen = 80  # cut texts after this number of words (among top max_features most common words)\n",
    "batch_size = 32\n",
    "\n",
    "print('Loading data...')\n",
    "(x_train, y_train), (x_test, y_test) = imdb.load_data(num_words=max_features)\n",
    "print(len(x_train), 'train sequences')\n",
    "print(len(x_test), 'test sequences')\n",
    "\n",
    "print('Pad sequences (samples x time)')\n",
    "x_train = sequence.pad_sequences(x_train, maxlen=maxlen)\n",
    "x_test = sequence.pad_sequences(x_test, maxlen=maxlen)\n",
    "print('x_train shape:', x_train.shape)\n",
    "print('x_test shape:', x_test.shape)"
   ]
  },
  {
   "cell_type": "code",
   "execution_count": 3,
   "metadata": {},
   "outputs": [
    {
     "name": "stdout",
     "output_type": "stream",
     "text": [
      "Build model...\n"
     ]
    }
   ],
   "source": [
    "print('Build model...')\n",
    "model = Sequential()\n",
    "model.add(Embedding(max_features, 128))\n",
    "model.add(LSTM(128, dropout=0.2, recurrent_dropout=0.2))\n",
    "model.add(Dense(1, activation='sigmoid'))"
   ]
  },
  {
   "cell_type": "code",
   "execution_count": 4,
   "metadata": {},
   "outputs": [
    {
     "name": "stdout",
     "output_type": "stream",
     "text": [
      "Train...\n",
      "Train on 25000 samples, validate on 25000 samples\n",
      "Epoch 1/15\n",
      "25000/25000 [==============================] - 226s - loss: 0.4621 - acc: 0.7826 - val_loss: 0.3837 - val_acc: 0.8355\n",
      "Epoch 2/15\n",
      "25000/25000 [==============================] - 241s - loss: 0.2951 - acc: 0.8804 - val_loss: 0.3794 - val_acc: 0.8382\n",
      "Epoch 3/15\n",
      "25000/25000 [==============================] - 221s - loss: 0.2177 - acc: 0.9158 - val_loss: 0.4158 - val_acc: 0.8320\n",
      "Epoch 4/15\n",
      "25000/25000 [==============================] - 229s - loss: 0.1567 - acc: 0.9410 - val_loss: 0.4962 - val_acc: 0.8308\n",
      "Epoch 5/15\n",
      "25000/25000 [==============================] - 228s - loss: 0.1075 - acc: 0.9617 - val_loss: 0.4994 - val_acc: 0.8290\n",
      "Epoch 6/15\n",
      "25000/25000 [==============================] - 227s - loss: 0.0807 - acc: 0.9724 - val_loss: 0.6304 - val_acc: 0.8194\n",
      "Epoch 7/15\n",
      "25000/25000 [==============================] - 228s - loss: 0.0598 - acc: 0.9802 - val_loss: 0.6837 - val_acc: 0.8178\n",
      "Epoch 8/15\n",
      "25000/25000 [==============================] - 234s - loss: 0.0402 - acc: 0.9872 - val_loss: 0.8113 - val_acc: 0.8187\n",
      "Epoch 9/15\n",
      "25000/25000 [==============================] - 239s - loss: 0.0384 - acc: 0.9866 - val_loss: 0.7137 - val_acc: 0.8102\n",
      "Epoch 10/15\n",
      "25000/25000 [==============================] - 233s - loss: 0.0268 - acc: 0.9915 - val_loss: 0.8024 - val_acc: 0.8115\n",
      "Epoch 11/15\n",
      "25000/25000 [==============================] - 229s - loss: 0.0208 - acc: 0.9939 - val_loss: 0.9586 - val_acc: 0.8134\n",
      "Epoch 12/15\n",
      "25000/25000 [==============================] - 228s - loss: 0.0145 - acc: 0.9957 - val_loss: 0.9985 - val_acc: 0.8116\n",
      "Epoch 13/15\n",
      "25000/25000 [==============================] - 233s - loss: 0.0182 - acc: 0.9945 - val_loss: 0.9733 - val_acc: 0.8074\n",
      "Epoch 14/15\n",
      "25000/25000 [==============================] - 238s - loss: 0.0148 - acc: 0.9954 - val_loss: 0.9658 - val_acc: 0.8120\n",
      "Epoch 15/15\n",
      "25000/25000 [==============================] - 229s - loss: 0.0131 - acc: 0.9962 - val_loss: 1.1955 - val_acc: 0.8122\n",
      "25000/25000 [==============================] - 62s    \n",
      "Test score: 1.19550397164\n",
      "Test accuracy: 0.81216\n"
     ]
    }
   ],
   "source": [
    "# try using different optimizers and different optimizer configs\n",
    "model.compile(loss='binary_crossentropy',\n",
    "              optimizer='adam',\n",
    "              metrics=['accuracy'])\n",
    "\n",
    "print('Train...')\n",
    "model.fit(x_train, y_train,\n",
    "          batch_size=batch_size,\n",
    "          epochs=15,\n",
    "          validation_data=(x_test, y_test))\n",
    "score, acc = model.evaluate(x_test, y_test,\n",
    "                            batch_size=batch_size)\n",
    "print('Test score:', score)\n",
    "print('Test accuracy:', acc)"
   ]
  },
  {
   "cell_type": "code",
   "execution_count": null,
   "metadata": {
    "collapsed": true
   },
   "outputs": [],
   "source": []
  }
 ],
 "metadata": {
  "kernelspec": {
   "display_name": "Python 3",
   "language": "python",
   "name": "python3"
  },
  "language_info": {
   "codemirror_mode": {
    "name": "ipython",
    "version": 3
   },
   "file_extension": ".py",
   "mimetype": "text/x-python",
   "name": "python",
   "nbconvert_exporter": "python",
   "pygments_lexer": "ipython3",
   "version": "3.6.1"
  }
 },
 "nbformat": 4,
 "nbformat_minor": 2
}
