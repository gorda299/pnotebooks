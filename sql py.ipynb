{
 "cells": [
  {
   "cell_type": "code",
   "execution_count": 13,
   "metadata": {
    "collapsed": true
   },
   "outputs": [],
   "source": [
    "import pyodbc\n",
    "import numpy as np"
   ]
  },
  {
   "cell_type": "code",
   "execution_count": 2,
   "metadata": {
    "collapsed": true
   },
   "outputs": [],
   "source": [
    "batch_size = 10"
   ]
  },
  {
   "cell_type": "code",
   "execution_count": 20,
   "metadata": {
    "collapsed": true
   },
   "outputs": [],
   "source": [
    "def sql_server_data_generator():\n",
    "    cnxn = pyodbc.connect('Trusted_Connection=yes;DRIVER={SQL Server};SERVER=DESKTOP-1RHDOBR\\GORDASQL;DATABASE=positive;UID=pyuser;PWD=pypypy')\n",
    "    cursor = cnxn.cursor()\n",
    "    cursor.execute(\"SELECT [id],[ttext] FROM [dbo].[sortpos]\")\n",
    "    \n",
    "    X, y = [], []\n",
    "    for row in cursor:\n",
    "        r_id = row.id\n",
    "        r_text = row.ttext\n",
    "        X.append(r_id)\n",
    "        y.append(r_text)\n",
    "        \n",
    "        if len(X) == batch_size:\n",
    "            npx = np.array(X)\n",
    "            npy = np.array(y)\n",
    "            yield npx, npy\n",
    "            X, y = [], []\n",
    "    pyodbc.Connection.close(cnxn)"
   ]
  },
  {
   "cell_type": "code",
   "execution_count": 21,
   "metadata": {
    "collapsed": true
   },
   "outputs": [],
   "source": [
    "ssdg = sql_server_data_generator()"
   ]
  },
  {
   "cell_type": "code",
   "execution_count": 26,
   "metadata": {},
   "outputs": [
    {
     "data": {
      "text/plain": [
       "(array([410280177827344385, 410280180490727424, 410280218645917696,\n",
       "        410280218746978304, 410280221682569216, 410280275781107712,\n",
       "        410280277508751360, 410280390243254272, 410280390386253824,\n",
       "        410280392017850368], dtype=int64),\n",
       " array([ '@rinka_pruf ноуноу,я ничего против Бенбекона не имею,наоборот... Просто хотела бы послушать Исина :D',\n",
       "        '@alevtina667 Пока ты через \\\\\"козла\\\\\" прыгала,я тебе там Сашку фотографировала на память )',\n",
       "        'С Добрым утром! Одевайтесь потеплее!) http://t.co/wdfJ2p5rff',\n",
       "        'RT @GlukoZa_Ionova: Вообще никого не обижайте! Все пригодятся ))) доброе утро! ',\n",
       "        'никакого новогоднего настроения...что то надо делать)) буду снежинки вырезать, офис разукрашивать',\n",
       "        'RT @zodocoduzuxo: хороша, чертовка...а глаза, глаза какие!!! ;)',\n",
       "        '@strilezkijslawa Доброе утро,Слава!У нас сегодня -13 уже)Завтра обещают до -18))',\n",
       "        'Какая же она милая!!))Даже 10-лет спустя!:))) http://t.co/gERQ8wsSA1',\n",
       "        'RT @glrrm84: @lira_oo Привет! Скорее выздоравливай и больше НИКОГДА не болей!=) http://t.co/DjYMDFPenf',\n",
       "        '@Anya_Smirny 8:07 от купавны не хочешь?) я там себя почувствовала шпротой в масле'],\n",
       "       dtype='<U102'))"
      ]
     },
     "execution_count": 26,
     "metadata": {},
     "output_type": "execute_result"
    }
   ],
   "source": [
    "next(ssdg)"
   ]
  },
  {
   "cell_type": "code",
   "execution_count": null,
   "metadata": {
    "collapsed": true
   },
   "outputs": [],
   "source": []
  }
 ],
 "metadata": {
  "kernelspec": {
   "display_name": "Python 3",
   "language": "python",
   "name": "python3"
  },
  "language_info": {
   "codemirror_mode": {
    "name": "ipython",
    "version": 3
   },
   "file_extension": ".py",
   "mimetype": "text/x-python",
   "name": "python",
   "nbconvert_exporter": "python",
   "pygments_lexer": "ipython3",
   "version": "3.6.1"
  }
 },
 "nbformat": 4,
 "nbformat_minor": 2
}
