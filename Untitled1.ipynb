{
 "cells": [
  {
   "cell_type": "code",
   "execution_count": 4,
   "metadata": {
    "collapsed": false
   },
   "outputs": [
    {
     "name": "stdout",
     "output_type": "stream",
     "text": [
      "3\n",
      "1\n",
      "5\n",
      "[1]\n",
      "1\n",
      "33\n",
      "[2]\n"
     ]
    }
   ],
   "source": [
    "x=input()\n",
    "a0=input()\n",
    "h=[1]\n",
    "j=0\n",
    "current_max=a0\n",
    "\n",
    "for i in xrange(x-1):\n",
    "    a = input();\n",
    "    if a>current_max:\n",
    "        h[j]+=1\n",
    "        print h"
   ]
  }
 ],
 "metadata": {
  "kernelspec": {
   "display_name": "Python 2",
   "language": "python",
   "name": "python2"
  },
  "language_info": {
   "codemirror_mode": {
    "name": "ipython",
    "version": 2
   },
   "file_extension": ".py",
   "mimetype": "text/x-python",
   "name": "python",
   "nbconvert_exporter": "python",
   "pygments_lexer": "ipython2",
   "version": "2.7.13"
  }
 },
 "nbformat": 4,
 "nbformat_minor": 2
}
