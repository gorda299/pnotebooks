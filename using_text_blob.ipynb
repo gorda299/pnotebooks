{
 "cells": [
  {
   "cell_type": "code",
   "execution_count": 2,
   "metadata": {
    "collapsed": false
   },
   "outputs": [],
   "source": [
    "from textblob import TextBlob"
   ]
  },
  {
   "cell_type": "code",
   "execution_count": 3,
   "metadata": {
    "collapsed": false
   },
   "outputs": [
    {
     "data": {
      "text/plain": [
       "[('The', u'DT'),\n",
       " ('titular', u'JJ'),\n",
       " ('threat', u'NN'),\n",
       " ('of', u'IN'),\n",
       " ('The', u'DT'),\n",
       " ('Blob', u'NNP'),\n",
       " ('has', u'VBZ'),\n",
       " ('always', u'RB'),\n",
       " ('struck', u'VBN'),\n",
       " ('me', u'PRP'),\n",
       " ('as', u'IN'),\n",
       " ('the', u'DT'),\n",
       " ('ultimate', u'JJ'),\n",
       " ('movie', u'NN'),\n",
       " ('monster', u'NN'),\n",
       " ('an', u'DT'),\n",
       " ('insatiably', u'RB'),\n",
       " ('hungry', u'JJ'),\n",
       " ('amoeba-like', u'JJ'),\n",
       " ('mass', u'NN'),\n",
       " ('able', u'JJ'),\n",
       " ('to', u'TO'),\n",
       " ('penetrate', u'VB'),\n",
       " ('virtually', u'RB'),\n",
       " ('any', u'DT'),\n",
       " ('safeguard', u'NN'),\n",
       " ('capable', u'JJ'),\n",
       " ('of', u'IN'),\n",
       " ('as', u'IN'),\n",
       " ('a', u'DT'),\n",
       " ('doomed', u'JJ'),\n",
       " ('doctor', u'NN'),\n",
       " ('chillingly', u'RB'),\n",
       " ('describes', u'VBZ'),\n",
       " ('it', u'PRP'),\n",
       " ('assimilating', u'VBG'),\n",
       " ('flesh', u'NN'),\n",
       " ('on', u'IN'),\n",
       " ('contact', u'NN'),\n",
       " ('Snide', u'JJ'),\n",
       " ('comparisons', u'NNS'),\n",
       " ('to', u'TO'),\n",
       " ('gelatin', u'VB'),\n",
       " ('be', u'VB'),\n",
       " ('damned', u'VBN'),\n",
       " ('it', u'PRP'),\n",
       " (\"'s\", u'VBZ'),\n",
       " ('a', u'DT'),\n",
       " ('concept', u'NN'),\n",
       " ('with', u'IN'),\n",
       " ('the', u'DT'),\n",
       " ('most', u'RBS'),\n",
       " ('devastating', u'JJ'),\n",
       " ('of', u'IN'),\n",
       " ('potential', u'JJ'),\n",
       " ('consequences', u'NNS'),\n",
       " ('not', u'RB'),\n",
       " ('unlike', u'IN'),\n",
       " ('the', u'DT'),\n",
       " ('grey', u'NN'),\n",
       " ('goo', u'NN'),\n",
       " ('scenario', u'NN'),\n",
       " ('proposed', u'VBN'),\n",
       " ('by', u'IN'),\n",
       " ('technological', u'JJ'),\n",
       " ('theorists', u'NNS'),\n",
       " ('fearful', u'NN'),\n",
       " ('of', u'IN'),\n",
       " ('artificial', u'JJ'),\n",
       " ('intelligence', u'NN'),\n",
       " ('run', u'NN'),\n",
       " ('rampant', u'NN')]"
      ]
     },
     "execution_count": 3,
     "metadata": {},
     "output_type": "execute_result"
    }
   ],
   "source": [
    "text = '''\n",
    "The titular threat of The Blob has always struck me as the ultimate movie monster: an insatiably hungry, amoeba-like mass able to penetrate virtually any safeguard, capable of--as a doomed doctor chillingly describes it--\"assimilating flesh on contact. Snide comparisons to gelatin be damned, it's a concept with the most devastating of potential consequences, not unlike the grey goo scenario proposed by technological theorists fearful of artificial intelligence run rampant.\n",
    "'''\n",
    "\n",
    "blob = TextBlob(text)\n",
    "blob.tags           # [('The', 'DT'), ('titular', 'JJ'),\n",
    "                    #  ('threat', 'NN'), ('of', 'IN'), ...]\n",
    "\n"
   ]
  },
  {
   "cell_type": "code",
   "execution_count": 5,
   "metadata": {
    "collapsed": false
   },
   "outputs": [
    {
     "data": {
      "text/plain": [
       "WordList([u'titular threat', 'blob', u'ultimate movie monster', u'amoeba-like mass', 'snide', u'potential consequences', u'grey goo scenario', u'technological theorists fearful', u'artificial intelligence run rampant'])"
      ]
     },
     "execution_count": 5,
     "metadata": {},
     "output_type": "execute_result"
    }
   ],
   "source": [
    "blob.noun_phrases   # WordList(['titular threat', 'blob',\n",
    "                    #            'ultimate movie monster',\n",
    "                    #            'amoeba-like mass', ...])\n",
    "\n"
   ]
  },
  {
   "cell_type": "code",
   "execution_count": 6,
   "metadata": {
    "collapsed": false
   },
   "outputs": [
    {
     "name": "stdout",
     "output_type": "stream",
     "text": [
      "0.06\n",
      "-0.341666666667\n"
     ]
    },
    {
     "data": {
      "text/plain": [
       "TextBlob(\"Титулярная угроза The Blob всегда поразила меня как конечного монстра фильма: ненасытно голодная, амеба-подобная масса, способная проникнуть практически в любую защиту, способную, как обречённый врач, одурачить ее, - «ассимилируя плоть при контакте». Сравнения Snide с желатином должны быть прокляты, это концепция с самыми разрушительными потенциальными последствиями, мало чем отличающаяся от сценария серого слизи, предложенного технологическими теоретиками, опасающимися искусственного интеллекта.\")"
      ]
     },
     "execution_count": 6,
     "metadata": {},
     "output_type": "execute_result"
    }
   ],
   "source": [
    "for sentence in blob.sentences:\n",
    "    print(sentence.sentiment.polarity)\n",
    "# 0.060\n",
    "# -0.341\n",
    "\n",
    "blob.translate(to=\"ru\")  # 'La amenaza titular de The Blob...'"
   ]
  }
 ],
 "metadata": {
  "kernelspec": {
   "display_name": "Python 2",
   "language": "python",
   "name": "python2"
  },
  "language_info": {
   "codemirror_mode": {
    "name": "ipython",
    "version": 2
   },
   "file_extension": ".py",
   "mimetype": "text/x-python",
   "name": "python",
   "nbconvert_exporter": "python",
   "pygments_lexer": "ipython2",
   "version": "2.7.13"
  }
 },
 "nbformat": 4,
 "nbformat_minor": 2
}
